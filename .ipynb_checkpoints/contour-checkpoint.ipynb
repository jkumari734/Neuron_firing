{
 "cells": [
  {
   "cell_type": "code",
   "execution_count": 1,
   "metadata": {},
   "outputs": [
    {
     "ename": "ModuleNotFoundError",
     "evalue": "No module named 'cv2.cv2'",
     "output_type": "error",
     "traceback": [
      "\u001b[1;31m---------------------------------------------------------------------------\u001b[0m",
      "\u001b[1;31mModuleNotFoundError\u001b[0m                       Traceback (most recent call last)",
      "\u001b[1;32m<ipython-input-1-b04ab5d93030>\u001b[0m in \u001b[0;36m<module>\u001b[1;34m\u001b[0m\n\u001b[1;32m----> 1\u001b[1;33m \u001b[1;32mimport\u001b[0m \u001b[0mcv2\u001b[0m\u001b[1;33m\u001b[0m\u001b[1;33m\u001b[0m\u001b[0m\n\u001b[0m\u001b[0;32m      2\u001b[0m \u001b[1;32mimport\u001b[0m \u001b[0mnumpy\u001b[0m \u001b[1;32mas\u001b[0m \u001b[0mnp\u001b[0m\u001b[1;33m\u001b[0m\u001b[1;33m\u001b[0m\u001b[0m\n\u001b[0;32m      3\u001b[0m \u001b[1;32mimport\u001b[0m \u001b[0mpandas\u001b[0m \u001b[1;32mas\u001b[0m \u001b[0mpd\u001b[0m\u001b[1;33m\u001b[0m\u001b[1;33m\u001b[0m\u001b[0m\n\u001b[0;32m      4\u001b[0m \u001b[1;33m\u001b[0m\u001b[0m\n\u001b[0;32m      5\u001b[0m \u001b[1;33m\u001b[0m\u001b[0m\n",
      "\u001b[1;32m~\\AppData\\Roaming\\Python\\Python37\\site-packages\\cv2\\__init__.py\u001b[0m in \u001b[0;36m<module>\u001b[1;34m\u001b[0m\n\u001b[0;32m      1\u001b[0m \u001b[1;32mimport\u001b[0m \u001b[0mimportlib\u001b[0m\u001b[1;33m\u001b[0m\u001b[1;33m\u001b[0m\u001b[0m\n\u001b[0;32m      2\u001b[0m \u001b[1;33m\u001b[0m\u001b[0m\n\u001b[1;32m----> 3\u001b[1;33m \u001b[1;32mfrom\u001b[0m \u001b[1;33m.\u001b[0m\u001b[0mcv2\u001b[0m \u001b[1;32mimport\u001b[0m \u001b[1;33m*\u001b[0m\u001b[1;33m\u001b[0m\u001b[1;33m\u001b[0m\u001b[0m\n\u001b[0m\u001b[0;32m      4\u001b[0m \u001b[1;32mfrom\u001b[0m \u001b[1;33m.\u001b[0m\u001b[0mdata\u001b[0m \u001b[1;32mimport\u001b[0m \u001b[1;33m*\u001b[0m\u001b[1;33m\u001b[0m\u001b[1;33m\u001b[0m\u001b[0m\n\u001b[0;32m      5\u001b[0m \u001b[1;33m\u001b[0m\u001b[0m\n",
      "\u001b[1;31mModuleNotFoundError\u001b[0m: No module named 'cv2.cv2'"
     ]
    }
   ],
   "source": [
    "import cv2\n",
    "import numpy as np\n",
    "import pandas as pd\n",
    "\n",
    "\n",
    "# for i in range(1, 501):\n",
    "#     if i > 0 and i < 10:\n",
    "#         s = 'Image'+str(i)+'.jpg'\n",
    "#     elif i > 9 and i < 100:\n",
    "#         s = 'Image'+str(i)+'.jpg'\n",
    "#     else:\n",
    "#         s = 'Image'+str(i)+'.jpg'\n",
    "    \n",
    "\n",
    "#     img = cv2.imread(s)\n",
    "#     img_binary = cv2.imread(s,0)\n",
    "    \n",
    "#     img_binary = cv2.medianBlur(img_binary, 3)\n",
    "   \n",
    "#     kernel = np.ones((3,3), np.uint8) \n",
    "\n",
    "#     img_dilation = cv2.dilate(img_binary, kernel, iterations=1) \n",
    "#     ret, a = cv2.threshold(img_dilation,140,255,cv2.THRESH_BINARY)   ## VERY IMPORTANT\n",
    "#     ret, b = cv2.threshold(a,150,255,cv2.THRESH_BINARY_INV)\n",
    "#     img_final = cv2.dilate(a, kernel, iterations=4) \n",
    "\n",
    "#     cv2.imshow('White background', a) \n",
    "# #     cv2.imshow('Black background ', b) \n",
    "#     cv2.imshow('No line', img_binary) \n",
    "    \n",
    "\n",
    "#     cv2.waitKey(200) "
   ]
  },
  {
   "cell_type": "code",
   "execution_count": null,
   "metadata": {},
   "outputs": [],
   "source": [
    "img = cv2.imread('Image1.jpg',0)\n",
    "ret,thresh = cv2.threshold(img,140,255,0)\n",
    "contours,hierarchy = cv2.findContours(thresh, 1, 2)\n",
    "cnts = sorted(contours, key = cv2.contourArea, reverse = True)[:5]\n",
    "\n",
    "for i in range(len(cnts)):\n",
    "    print(cv2.contourArea(cnts[i]),\"cnt\")\n",
    "\n",
    "centroids = {}\n",
    "for c in contours:\n",
    "    M = cv2.moments(c)\n",
    "       # calculate x,y coordinate of center\n",
    "    cX = int(M[\"m10\"] / M[\"m00\"])\n",
    "    cY = int(M[\"m01\"] / M[\"m00\"])\n",
    "    centroids[(cX,cY)] = cv2.contourArea(c)\n",
    "    \n",
    "print(centroids)"
   ]
  },
  {
   "cell_type": "code",
   "execution_count": 10,
   "metadata": {},
   "outputs": [],
   "source": [
    "counter = 0\n",
    "centroids = {}\n",
    "visited = {}\n",
    "\n",
    "for i in range(1, 501):\n",
    "    if i > 0 and i < 10:\n",
    "        s = 'Image'+str(i)+'.jpg'\n",
    "    elif i > 9 and i < 100:\n",
    "        s = 'Image'+str(i)+'.jpg'\n",
    "    else:\n",
    "        s = 'Image'+str(i)+'.jpg'\n",
    "        \n",
    "    img = cv2.imread(s,0)\n",
    "    ret,thresh = cv2.threshold(img,140,255,0)\n",
    "#     ret, b = cv2.threshold(thresh,200,255,cv2.THRESH_BINARY_INV)\n",
    "    contours,hierarchy = cv2.findContours(thresh, 1, 2)\n",
    "    cnts = sorted(contours, key = cv2.contourArea, reverse = True)\n",
    "    \n",
    "    temp = {}\n",
    "    \n",
    "    for j in range(len(cnts)):\n",
    "        M = cv2.moments(cnts[j])\n",
    "        if M[\"m00\"] != 0:\n",
    "            cX = int(M[\"m10\"] / M[\"m00\"])\n",
    "            cY = int(M[\"m01\"] / M[\"m00\"])\n",
    "        else:\n",
    "            cX, cY = 0, 0\n",
    "        if cv2.contourArea(cnts[j]) > 5:\n",
    "            temp[(cX,cY)] = cv2.contourArea(cnts[j])\n",
    "                \n",
    "    for c in contours:\n",
    "        if cv2.contourArea(c) > 10:\n",
    "            M = cv2.moments(c)\n",
    "            if M[\"m00\"] != 0:\n",
    "                cX = int(M[\"m10\"] / M[\"m00\"])\n",
    "                cY = int(M[\"m01\"] / M[\"m00\"])\n",
    "            else:\n",
    "                cX, cY = 0, 0\n",
    "\n",
    "            if (cX,cY) in centroids.keys():\n",
    "                \n",
    "                if temp[(cX, cY)] >= centroids[(cX,cY)]:\n",
    "                    centroids[(cX,cY)] = temp[(cX, cY)]\n",
    "                    visited[(cX,cY)] = False\n",
    "                    \n",
    "                elif temp[(cX, cY)] <= 0.3 * centroids[(cX,cY)]:\n",
    "                    centroids[(cX,cY)] = temp[(cX, cY)]\n",
    "                    visited[(cX,cY)] = False\n",
    "                    \n",
    "                else:\n",
    "                    if temp[(cX, cY)] < centroids[(cX,cY)] and visited[(cX,cY)]==False:\n",
    "                        counter += 1\n",
    "                        visited[(cX,cY)] = True\n",
    "                        if i == 20 or i==30 or i==40 or i==50 or i==60:\n",
    "                            x,y,w,h = cv2.boundingRect(c)\n",
    "                            cv2.rectangle(img,(x-10,y-10),(x+w+20,y+h+20),(128,128,0),2)\n",
    "                            cv2.imshow(str(i), img) \n",
    "                            cv2.waitKey(0) \n",
    "\n",
    "            else:\n",
    "                centroids[(cX, cY)] = cv2.contourArea(c)\n",
    "                visited[(cX,cY)] = False\n"
   ]
  },
  {
   "cell_type": "code",
   "execution_count": null,
   "metadata": {},
   "outputs": [],
   "source": [
    "print(counter)"
   ]
  },
  {
   "cell_type": "code",
   "execution_count": null,
   "metadata": {},
   "outputs": [],
   "source": [
    "import cv2\n",
    "from matplotlib import pyplot as plt\n",
    "\n",
    "hist = cv2.calcHist([img], [0], None, [256], [0, 256])\n",
    "plt.plot(hist, color='blue')\n",
    "plt.xlim([0, 256])"
   ]
  }
 ],
 "metadata": {
  "kernelspec": {
   "display_name": "Python 3",
   "language": "python",
   "name": "python3"
  },
  "language_info": {
   "codemirror_mode": {
    "name": "ipython",
    "version": 3
   },
   "file_extension": ".py",
   "mimetype": "text/x-python",
   "name": "python",
   "nbconvert_exporter": "python",
   "pygments_lexer": "ipython3",
   "version": "3.7.2"
  }
 },
 "nbformat": 4,
 "nbformat_minor": 2
}
